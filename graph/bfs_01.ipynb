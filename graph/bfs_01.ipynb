{
 "cells": [
  {
   "cell_type": "code",
   "execution_count": 1,
   "id": "8c8c3894-7316-4dfd-becc-ac39d8b8155b",
   "metadata": {},
   "outputs": [],
   "source": [
    "import random"
   ]
  },
  {
   "cell_type": "code",
   "execution_count": 2,
   "id": "bd12b5ab-8397-41d9-9a72-18ecda78b9e4",
   "metadata": {},
   "outputs": [
    {
     "name": "stdout",
     "output_type": "stream",
     "text": [
      "num nodes :  40\n",
      "num edges :  308\n",
      "edges :  [[0, 4], [0, 8], [0, 13], [0, 16], [0, 21], [0, 26], [0, 33], [0, 36], [0, 38], [1, 3], [1, 6], [1, 7], [1, 9], [1, 11], [1, 15], [1, 16], [1, 19], [1, 30], [1, 32], [1, 33], [1, 34], [1, 38], [2, 9], [2, 11], [2, 23], [2, 28], [2, 30], [2, 31], [2, 33], [2, 35], [2, 36], [2, 38], [3, 7], [3, 11], [3, 12], [3, 14], [3, 15], [3, 17], [3, 18], [3, 19], [3, 22], [3, 24], [3, 25], [3, 26], [3, 28], [3, 29], [3, 31], [3, 32], [3, 34], [3, 35], [3, 39], [4, 7], [4, 10], [4, 11], [4, 14], [4, 19], [4, 20], [4, 22], [4, 24], [4, 26], [4, 27], [4, 28], [4, 29], [4, 31], [4, 32], [4, 33], [4, 38], [5, 7], [5, 8], [5, 9], [5, 10], [5, 12], [5, 20], [5, 22], [5, 23], [5, 30], [5, 35], [5, 38], [6, 10], [6, 11], [6, 13], [6, 16], [6, 17], [6, 20], [6, 22], [6, 24], [6, 25], [6, 26], [6, 30], [6, 33], [6, 35], [6, 36], [6, 37], [7, 11], [7, 18], [7, 20], [7, 22], [7, 23], [7, 24], [7, 27], [7, 29], [7, 30], [7, 32], [7, 33], [7, 35], [7, 37], [7, 38], [7, 39], [8, 10], [8, 12], [8, 14], [8, 19], [8, 23], [8, 28], [8, 31], [8, 32], [8, 34], [8, 35], [8, 36], [9, 13], [9, 15], [9, 18], [9, 19], [9, 25], [9, 26], [9, 27], [9, 28], [9, 30], [9, 31], [9, 32], [9, 33], [9, 35], [9, 38], [10, 15], [10, 19], [10, 21], [10, 22], [10, 26], [10, 27], [10, 28], [10, 34], [10, 35], [10, 37], [10, 38], [10, 39], [11, 12], [11, 14], [11, 15], [11, 16], [11, 29], [11, 35], [12, 13], [12, 14], [12, 16], [12, 17], [12, 20], [12, 23], [12, 25], [12, 26], [12, 28], [12, 29], [12, 35], [12, 39], [13, 14], [13, 16], [13, 17], [13, 20], [13, 22], [13, 23], [13, 30], [13, 31], [13, 35], [14, 19], [14, 25], [14, 26], [14, 33], [14, 34], [15, 16], [15, 17], [15, 23], [15, 26], [15, 29], [15, 33], [15, 34], [15, 35], [15, 36], [15, 37], [15, 38], [16, 18], [16, 20], [16, 21], [16, 24], [16, 25], [16, 26], [16, 27], [16, 30], [16, 31], [16, 32], [16, 34], [16, 36], [16, 38], [17, 20], [17, 22], [17, 24], [17, 28], [17, 29], [17, 31], [17, 33], [17, 34], [17, 35], [17, 36], [17, 37], [18, 20], [18, 23], [18, 25], [18, 27], [18, 31], [18, 32], [18, 33], [18, 37], [19, 22], [19, 25], [19, 28], [19, 32], [19, 33], [19, 36], [19, 37], [20, 22], [20, 27], [20, 29], [20, 31], [20, 33], [20, 34], [20, 37], [20, 38], [20, 39], [21, 22], [21, 26], [21, 28], [21, 29], [21, 31], [21, 33], [21, 35], [22, 28], [22, 29], [22, 31], [22, 33], [22, 35], [22, 37], [23, 26], [23, 28], [23, 29], [23, 31], [23, 33], [23, 36], [23, 38], [24, 28], [24, 29], [24, 35], [24, 37], [24, 38], [25, 26], [25, 27], [25, 34], [25, 38], [26, 27], [26, 28], [26, 29], [26, 32], [26, 33], [26, 34], [26, 35], [26, 36], [26, 37], [26, 39], [27, 32], [27, 34], [28, 34], [28, 35], [28, 36], [28, 37], [28, 38], [29, 30], [29, 34], [29, 37], [29, 38], [30, 32], [30, 34], [30, 35], [30, 36], [30, 37], [30, 38], [31, 32], [31, 33], [31, 36], [31, 38], [31, 39], [32, 34], [32, 36], [32, 39], [33, 37], [33, 38], [33, 39], [34, 39], [35, 39], [36, 37], [36, 39], [38, 39]]\n"
     ]
    }
   ],
   "source": [
    "random.seed(0)\n",
    "\n",
    "# num nodes\n",
    "N = 40\n",
    "\n",
    "edges = []\n",
    "for i in range(N - 1):\n",
    "    for j in range(i + 1, N):\n",
    "        if random.random() < 0.4:\n",
    "            edges.append([i, j])\n",
    "\n",
    "# num edges\n",
    "M = len(edges)\n",
    "\n",
    "print(\"num nodes : \", N)\n",
    "print(\"num edges : \", M)\n",
    "print(\"edges : \", edges)"
   ]
  },
  {
   "cell_type": "code",
   "execution_count": 3,
   "id": "218555cd-b771-479d-9702-6c55b5317102",
   "metadata": {},
   "outputs": [],
   "source": [
    "class Node:\n",
    "    def __init__(self, idx):\n",
    "        self.idx = idx\n",
    "        self.visited = False\n",
    "        self.dist = -1\n",
    "    \n",
    "    def __repr__(self):\n",
    "        return f'Nd {self.idx} (T)' if self.visited else f'Nd {self.idx} (F)'\n",
    "\n",
    "    def init_node(self):\n",
    "        self.visited = False\n",
    "        self.dist = -1\n",
    "    \n",
    "    def is_visited(self):\n",
    "        return self.visited\n",
    "\n",
    "    def check_visited(self):\n",
    "        self.visited = True\n",
    "\n",
    "\n",
    "class Graph:\n",
    "    def __init__(self, N, edges):\n",
    "        self.num_nodes = N\n",
    "        self.nodes = [Node(idx) for idx in range(N)]\n",
    "        self.edges = edges\n",
    "        self.graph = {n : [] for n in range(N)}\n",
    "        self.build_graph()\n",
    "    \n",
    "    def __len__(self):\n",
    "        return self.num_nodes\n",
    "    \n",
    "    def __repr__(self):\n",
    "        str_ = \"\"\n",
    "        for nd, nbs in self.graph.items():\n",
    "            str_ += \"({} , {})\\n\".format(nd, nbs)\n",
    "        return str_[:-1]\n",
    "\n",
    "    def build_graph(self):\n",
    "        self.edges.sort(key = lambda x: x[1])\n",
    "        self.edges.sort(key = lambda x: x[0])\n",
    "        for edge in self.edges:\n",
    "            self.graph[edge[0]].append(edge[1])\n",
    "        self.nexts = []\n",
    "\n",
    "    def init_graph(self):\n",
    "        for nd in self.nodes:\n",
    "            nd.init_node()\n",
    "    \n",
    "    def show_nodes(self):\n",
    "        for nd in self.nodes:\n",
    "            print(nd)\n",
    "\n",
    "    def get_neighbors(self, nd):\n",
    "        return [self.nodes[idx] for idx in self.graph[nd.idx]]\n",
    "    \n",
    "    def add_next(self, nd):\n",
    "        self.nexts.append(nd)\n",
    "\n",
    "    def get_next(self):\n",
    "        return self.nexts.pop(0)"
   ]
  },
  {
   "cell_type": "code",
   "execution_count": 4,
   "id": "49ea52a8-abdd-404b-be83-791877fe97c6",
   "metadata": {},
   "outputs": [],
   "source": [
    "def bfs(G, nd):\n",
    "    for nb in G.get_neighbors(nd):\n",
    "        if nb.is_visited():\n",
    "            continue\n",
    "        nb.check_visited()\n",
    "        G.add_next(nb)\n",
    "        nb.dist = nd.dist + 1\n",
    "\n",
    "def traverse(G, s=0):\n",
    "    G.init_graph()\n",
    "\n",
    "    if G.num_nodes == 0:\n",
    "        raise ValueError(\"graph must contain at least 1 node\")\n",
    "\n",
    "    nd = G.nodes[s]\n",
    "    nd.dist = 0\n",
    "    nd.check_visited()\n",
    "    G.add_next(nd)\n",
    "\n",
    "    while len(G.nexts) > 0:\n",
    "        nd = G.get_next()\n",
    "        bfs(G, nd)"
   ]
  },
  {
   "cell_type": "code",
   "execution_count": 5,
   "id": "442b3e3d-2f51-47f5-9845-e33a9c83d3c9",
   "metadata": {},
   "outputs": [
    {
     "name": "stdout",
     "output_type": "stream",
     "text": [
      "(0 , [4, 8, 13, 16, 21, 26, 33, 36, 38])\n",
      "(1 , [3, 6, 7, 9, 11, 15, 16, 19, 30, 32, 33, 34, 38])\n",
      "(2 , [9, 11, 23, 28, 30, 31, 33, 35, 36, 38])\n",
      "(3 , [7, 11, 12, 14, 15, 17, 18, 19, 22, 24, 25, 26, 28, 29, 31, 32, 34, 35, 39])\n",
      "(4 , [7, 10, 11, 14, 19, 20, 22, 24, 26, 27, 28, 29, 31, 32, 33, 38])\n",
      "(5 , [7, 8, 9, 10, 12, 20, 22, 23, 30, 35, 38])\n",
      "(6 , [10, 11, 13, 16, 17, 20, 22, 24, 25, 26, 30, 33, 35, 36, 37])\n",
      "(7 , [11, 18, 20, 22, 23, 24, 27, 29, 30, 32, 33, 35, 37, 38, 39])\n",
      "(8 , [10, 12, 14, 19, 23, 28, 31, 32, 34, 35, 36])\n",
      "(9 , [13, 15, 18, 19, 25, 26, 27, 28, 30, 31, 32, 33, 35, 38])\n",
      "(10 , [15, 19, 21, 22, 26, 27, 28, 34, 35, 37, 38, 39])\n",
      "(11 , [12, 14, 15, 16, 29, 35])\n",
      "(12 , [13, 14, 16, 17, 20, 23, 25, 26, 28, 29, 35, 39])\n",
      "(13 , [14, 16, 17, 20, 22, 23, 30, 31, 35])\n",
      "(14 , [19, 25, 26, 33, 34])\n",
      "(15 , [16, 17, 23, 26, 29, 33, 34, 35, 36, 37, 38])\n",
      "(16 , [18, 20, 21, 24, 25, 26, 27, 30, 31, 32, 34, 36, 38])\n",
      "(17 , [20, 22, 24, 28, 29, 31, 33, 34, 35, 36, 37])\n",
      "(18 , [20, 23, 25, 27, 31, 32, 33, 37])\n",
      "(19 , [22, 25, 28, 32, 33, 36, 37])\n",
      "(20 , [22, 27, 29, 31, 33, 34, 37, 38, 39])\n",
      "(21 , [22, 26, 28, 29, 31, 33, 35])\n",
      "(22 , [28, 29, 31, 33, 35, 37])\n",
      "(23 , [26, 28, 29, 31, 33, 36, 38])\n",
      "(24 , [28, 29, 35, 37, 38])\n",
      "(25 , [26, 27, 34, 38])\n",
      "(26 , [27, 28, 29, 32, 33, 34, 35, 36, 37, 39])\n",
      "(27 , [32, 34])\n",
      "(28 , [34, 35, 36, 37, 38])\n",
      "(29 , [30, 34, 37, 38])\n",
      "(30 , [32, 34, 35, 36, 37, 38])\n",
      "(31 , [32, 33, 36, 38, 39])\n",
      "(32 , [34, 36, 39])\n",
      "(33 , [37, 38, 39])\n",
      "(34 , [39])\n",
      "(35 , [39])\n",
      "(36 , [37, 39])\n",
      "(37 , [])\n",
      "(38 , [39])\n",
      "(39 , [])\n"
     ]
    }
   ],
   "source": [
    "G = Graph(N, edges)\n",
    "print(G)"
   ]
  },
  {
   "cell_type": "code",
   "execution_count": 6,
   "id": "dc46b404-1b69-42c9-967e-ff6a8e5fb040",
   "metadata": {},
   "outputs": [],
   "source": [
    "traverse(G, s=0)"
   ]
  },
  {
   "cell_type": "code",
   "execution_count": 7,
   "id": "f1af2783-c5fd-4080-b76a-f48e8079a955",
   "metadata": {},
   "outputs": [
    {
     "name": "stdout",
     "output_type": "stream",
     "text": [
      "Nd 0 (T)\n",
      "Nd 1 (F)\n",
      "Nd 2 (F)\n",
      "Nd 3 (F)\n",
      "Nd 4 (T)\n",
      "Nd 5 (F)\n",
      "Nd 6 (F)\n",
      "Nd 7 (T)\n",
      "Nd 8 (T)\n",
      "Nd 9 (F)\n",
      "Nd 10 (T)\n",
      "Nd 11 (T)\n",
      "Nd 12 (T)\n",
      "Nd 13 (T)\n",
      "Nd 14 (T)\n",
      "Nd 15 (T)\n",
      "Nd 16 (T)\n",
      "Nd 17 (T)\n",
      "Nd 18 (T)\n",
      "Nd 19 (T)\n",
      "Nd 20 (T)\n",
      "Nd 21 (T)\n",
      "Nd 22 (T)\n",
      "Nd 23 (T)\n",
      "Nd 24 (T)\n",
      "Nd 25 (T)\n",
      "Nd 26 (T)\n",
      "Nd 27 (T)\n",
      "Nd 28 (T)\n",
      "Nd 29 (T)\n",
      "Nd 30 (T)\n",
      "Nd 31 (T)\n",
      "Nd 32 (T)\n",
      "Nd 33 (T)\n",
      "Nd 34 (T)\n",
      "Nd 35 (T)\n",
      "Nd 36 (T)\n",
      "Nd 37 (T)\n",
      "Nd 38 (T)\n",
      "Nd 39 (T)\n"
     ]
    }
   ],
   "source": [
    "G.show_nodes()"
   ]
  },
  {
   "cell_type": "code",
   "execution_count": 8,
   "id": "158a7227-422f-4a59-a9e0-e2716820dcad",
   "metadata": {},
   "outputs": [
    {
     "name": "stdout",
     "output_type": "stream",
     "text": [
      "Nd 0 (T) 0\n",
      "Nd 1 (F) -1\n",
      "Nd 2 (F) -1\n",
      "Nd 3 (F) -1\n",
      "Nd 4 (T) 1\n",
      "Nd 5 (F) -1\n",
      "Nd 6 (F) -1\n",
      "Nd 7 (T) 2\n",
      "Nd 8 (T) 1\n",
      "Nd 9 (F) -1\n",
      "Nd 10 (T) 2\n",
      "Nd 11 (T) 2\n",
      "Nd 12 (T) 2\n",
      "Nd 13 (T) 1\n",
      "Nd 14 (T) 2\n",
      "Nd 15 (T) 3\n",
      "Nd 16 (T) 1\n",
      "Nd 17 (T) 2\n",
      "Nd 18 (T) 2\n",
      "Nd 19 (T) 2\n",
      "Nd 20 (T) 2\n",
      "Nd 21 (T) 1\n",
      "Nd 22 (T) 2\n",
      "Nd 23 (T) 2\n",
      "Nd 24 (T) 2\n",
      "Nd 25 (T) 2\n",
      "Nd 26 (T) 1\n",
      "Nd 27 (T) 2\n",
      "Nd 28 (T) 2\n",
      "Nd 29 (T) 2\n",
      "Nd 30 (T) 2\n",
      "Nd 31 (T) 2\n",
      "Nd 32 (T) 2\n",
      "Nd 33 (T) 1\n",
      "Nd 34 (T) 2\n",
      "Nd 35 (T) 2\n",
      "Nd 36 (T) 1\n",
      "Nd 37 (T) 2\n",
      "Nd 38 (T) 1\n",
      "Nd 39 (T) 2\n"
     ]
    }
   ],
   "source": [
    "for nd in G.nodes:\n",
    "    print(nd, nd.dist)"
   ]
  },
  {
   "cell_type": "code",
   "execution_count": null,
   "id": "962bbf71-d17e-476a-a5a0-037cfeff4c6f",
   "metadata": {},
   "outputs": [],
   "source": []
  },
  {
   "cell_type": "code",
   "execution_count": null,
   "id": "ef9dd470-59da-4286-a7c8-ed62d7d4a546",
   "metadata": {},
   "outputs": [],
   "source": []
  },
  {
   "cell_type": "code",
   "execution_count": null,
   "id": "00cc1f7d-03d2-4fbb-bbdf-0d1cc1c98c31",
   "metadata": {},
   "outputs": [],
   "source": []
  },
  {
   "cell_type": "code",
   "execution_count": null,
   "id": "0551e102-daed-4f90-95b5-6c1a83f5562d",
   "metadata": {},
   "outputs": [],
   "source": []
  },
  {
   "cell_type": "code",
   "execution_count": null,
   "id": "4c22a4cc-17da-4e53-9168-38bf5f2748e9",
   "metadata": {},
   "outputs": [],
   "source": []
  },
  {
   "cell_type": "code",
   "execution_count": null,
   "id": "b7813a63-bca6-4147-a307-bf62d4c93050",
   "metadata": {},
   "outputs": [],
   "source": []
  },
  {
   "cell_type": "code",
   "execution_count": null,
   "id": "e4279d98-21db-4c1a-b278-8dab53b981b2",
   "metadata": {},
   "outputs": [],
   "source": []
  },
  {
   "cell_type": "code",
   "execution_count": null,
   "id": "36b95942-c5f1-4433-a83e-d69ff451e06a",
   "metadata": {},
   "outputs": [],
   "source": []
  },
  {
   "cell_type": "code",
   "execution_count": null,
   "id": "f0e244b9-512c-4b6d-8af7-3fb2b8b54861",
   "metadata": {},
   "outputs": [],
   "source": []
  },
  {
   "cell_type": "code",
   "execution_count": null,
   "id": "c88424c0-ead1-4fad-9bcd-fc3ee18c5f3e",
   "metadata": {},
   "outputs": [],
   "source": []
  },
  {
   "cell_type": "code",
   "execution_count": null,
   "id": "296fc94b-daf5-45e0-a03d-a0f5a724cacd",
   "metadata": {},
   "outputs": [],
   "source": []
  }
 ],
 "metadata": {
  "kernelspec": {
   "display_name": "Python 3",
   "language": "python",
   "name": "python3"
  },
  "language_info": {
   "codemirror_mode": {
    "name": "ipython",
    "version": 3
   },
   "file_extension": ".py",
   "mimetype": "text/x-python",
   "name": "python",
   "nbconvert_exporter": "python",
   "pygments_lexer": "ipython3",
   "version": "3.9.4"
  }
 },
 "nbformat": 4,
 "nbformat_minor": 5
}
