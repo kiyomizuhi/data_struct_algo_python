{
 "cells": [
  {
   "cell_type": "code",
   "execution_count": 1,
   "id": "8c8c3894-7316-4dfd-becc-ac39d8b8155b",
   "metadata": {},
   "outputs": [],
   "source": [
    "import random"
   ]
  },
  {
   "cell_type": "code",
   "execution_count": 50,
   "id": "bd12b5ab-8397-41d9-9a72-18ecda78b9e4",
   "metadata": {
    "tags": []
   },
   "outputs": [
    {
     "name": "stdout",
     "output_type": "stream",
     "text": [
      "num nodes :  6\n",
      "num edges :  10\n",
      "edges : \n",
      "[0, 3]\n",
      "[0, 4]\n",
      "[0, 5]\n",
      "[1, 2]\n",
      "[1, 4]\n",
      "[1, 5]\n",
      "[2, 3]\n",
      "[2, 5]\n",
      "[3, 4]\n",
      "[4, 5]\n"
     ]
    }
   ],
   "source": [
    "random.seed(0)\n",
    "\n",
    "# num nodes\n",
    "N = 6\n",
    "\n",
    "edges = []\n",
    "for i in range(N - 1):\n",
    "    for j in range(i + 1, N):\n",
    "        if random.random() < 0.7:\n",
    "            edges.append([i, j])\n",
    "\n",
    "# num edges\n",
    "M = len(edges)\n",
    "\n",
    "print(\"num nodes : \", N)\n",
    "print(\"num edges : \", M)\n",
    "print(\"edges : \")\n",
    "for edge in edges:\n",
    "    print(edge)"
   ]
  },
  {
   "cell_type": "code",
   "execution_count": 51,
   "id": "3bf0b802-7a4d-4b13-ab23-3d0b079b749c",
   "metadata": {},
   "outputs": [],
   "source": [
    "edges = [\n",
    "    [0, 1],\n",
    "    [0, 2],\n",
    "    [1, 3],\n",
    "    [1, 4],\n",
    "    [2, 4],\n",
    "    [3, 5],\n",
    "    [4, 5],\n",
    "]"
   ]
  },
  {
   "cell_type": "code",
   "execution_count": 52,
   "id": "218555cd-b771-479d-9702-6c55b5317102",
   "metadata": {},
   "outputs": [],
   "source": [
    "class Node:\n",
    "    def __init__(self, idx):\n",
    "        self.idx = idx\n",
    "        self.visited = False\n",
    "        self.step = -1\n",
    "    \n",
    "    def __repr__(self):\n",
    "        return f'Nd {self.idx} (T)' if self.visited else f'Nd {self.idx} (F)'\n",
    "\n",
    "    def init_node(self):\n",
    "        self.visited = False\n",
    "        self.step = -1\n",
    "    \n",
    "    def is_visited(self):\n",
    "        return self.visited\n",
    "\n",
    "    def check_visited(self):\n",
    "        self.visited = True\n",
    "\n",
    "\n",
    "class Graph:\n",
    "    def __init__(self, N, edges):\n",
    "        self.num_nodes = N\n",
    "        self.nodes = [Node(idx) for idx in range(N)]\n",
    "        self.edges = edges\n",
    "        self.graph = {n : [] for n in range(N)}\n",
    "        self.build_graph()\n",
    "        self.init_graph()\n",
    "    \n",
    "    def __len__(self):\n",
    "        return self.num_nodes\n",
    "    \n",
    "    def __repr__(self):\n",
    "        str_ = \"\"\n",
    "        for nd, nbs in self.graph.items():\n",
    "            str_ += \"({} , {})\\n\".format(nd, nbs)\n",
    "        return str_[:-1]\n",
    "\n",
    "    def build_graph(self):\n",
    "        self.edges.sort(key = lambda x: x[1])\n",
    "        self.edges.sort(key = lambda x: x[0])\n",
    "        for edge in self.edges:\n",
    "            self.graph[edge[0]].append(edge[1])\n",
    "\n",
    "    def init_graph(self):\n",
    "        for nd in self.nodes:\n",
    "            nd.init_node()\n",
    "        self.nexts = []\n",
    "    \n",
    "    def show_nodes(self):\n",
    "        for nd in self.nodes:\n",
    "            print(nd)\n",
    "\n",
    "    def get_neighbors(self, nd):\n",
    "        return [self.nodes[i] for i in self.graph[nd.idx]]\n",
    "    \n",
    "    def add_next(self, nd):\n",
    "        self.nexts.append(nd)\n",
    "\n",
    "    def get_next(self):\n",
    "        return self.nexts.pop(0)"
   ]
  },
  {
   "cell_type": "code",
   "execution_count": 57,
   "id": "49ea52a8-abdd-404b-be83-791877fe97c6",
   "metadata": {},
   "outputs": [],
   "source": [
    "def bfs(G, nd):\n",
    "    for nb in G.get_neighbors(nd):\n",
    "        if not nb.is_visited():\n",
    "            nb.check_visited()\n",
    "            G.add_next(nb)\n",
    "            nb.step = nd.step + 1\n",
    "\n",
    "def traverse(G, s=0):\n",
    "    G.init_graph()\n",
    "\n",
    "    if G.num_nodes == 0:\n",
    "        raise ValueError(\"graph must contain at least 1 node\")\n",
    "\n",
    "    nd = G.nodes[s]\n",
    "    nd.step = 0\n",
    "    nd.check_visited()\n",
    "    G.add_next(nd)\n",
    "\n",
    "    while len(G.nexts) > 0:\n",
    "        nd = G.get_next()\n",
    "        bfs(G, nd)"
   ]
  },
  {
   "cell_type": "code",
   "execution_count": 58,
   "id": "442b3e3d-2f51-47f5-9845-e33a9c83d3c9",
   "metadata": {
    "tags": []
   },
   "outputs": [
    {
     "name": "stdout",
     "output_type": "stream",
     "text": [
      "(0 , [1, 2])\n",
      "(1 , [3, 4])\n",
      "(2 , [4])\n",
      "(3 , [5])\n",
      "(4 , [5])\n",
      "(5 , [])\n"
     ]
    }
   ],
   "source": [
    "G = Graph(N, edges)\n",
    "print(G)"
   ]
  },
  {
   "cell_type": "code",
   "execution_count": 59,
   "id": "dc46b404-1b69-42c9-967e-ff6a8e5fb040",
   "metadata": {
    "tags": []
   },
   "outputs": [
    {
     "name": "stdout",
     "output_type": "stream",
     "text": [
      "Nd 0 (T)    0\n",
      "Nd 1 (T)    1\n",
      "Nd 2 (T)    1\n",
      "Nd 3 (T)    2\n",
      "Nd 4 (T)    2\n",
      "Nd 5 (T)    3\n"
     ]
    }
   ],
   "source": [
    "traverse(G, s=0)\n",
    "for nd in G.nodes:\n",
    "    print(\"{} {:4d}\".format(nd, nd.step))"
   ]
  },
  {
   "cell_type": "code",
   "execution_count": 60,
   "id": "158a7227-422f-4a59-a9e0-e2716820dcad",
   "metadata": {},
   "outputs": [
    {
     "name": "stdout",
     "output_type": "stream",
     "text": [
      "Nd 0 (F)   -1\n",
      "Nd 1 (F)   -1\n",
      "Nd 2 (T)    0\n",
      "Nd 3 (F)   -1\n",
      "Nd 4 (T)    1\n",
      "Nd 5 (T)    2\n"
     ]
    }
   ],
   "source": [
    "traverse(G, s=2)\n",
    "for nd in G.nodes:\n",
    "    print(\"{} {:4d}\".format(nd, nd.step))"
   ]
  },
  {
   "cell_type": "code",
   "execution_count": null,
   "id": "962bbf71-d17e-476a-a5a0-037cfeff4c6f",
   "metadata": {},
   "outputs": [],
   "source": []
  },
  {
   "cell_type": "code",
   "execution_count": null,
   "id": "ef9dd470-59da-4286-a7c8-ed62d7d4a546",
   "metadata": {},
   "outputs": [],
   "source": []
  },
  {
   "cell_type": "code",
   "execution_count": null,
   "id": "00cc1f7d-03d2-4fbb-bbdf-0d1cc1c98c31",
   "metadata": {},
   "outputs": [],
   "source": []
  },
  {
   "cell_type": "code",
   "execution_count": null,
   "id": "0551e102-daed-4f90-95b5-6c1a83f5562d",
   "metadata": {},
   "outputs": [],
   "source": []
  },
  {
   "cell_type": "code",
   "execution_count": null,
   "id": "4c22a4cc-17da-4e53-9168-38bf5f2748e9",
   "metadata": {},
   "outputs": [],
   "source": []
  },
  {
   "cell_type": "code",
   "execution_count": null,
   "id": "b7813a63-bca6-4147-a307-bf62d4c93050",
   "metadata": {},
   "outputs": [],
   "source": []
  },
  {
   "cell_type": "code",
   "execution_count": null,
   "id": "e4279d98-21db-4c1a-b278-8dab53b981b2",
   "metadata": {},
   "outputs": [],
   "source": []
  },
  {
   "cell_type": "code",
   "execution_count": null,
   "id": "36b95942-c5f1-4433-a83e-d69ff451e06a",
   "metadata": {},
   "outputs": [],
   "source": []
  },
  {
   "cell_type": "code",
   "execution_count": null,
   "id": "f0e244b9-512c-4b6d-8af7-3fb2b8b54861",
   "metadata": {},
   "outputs": [],
   "source": []
  },
  {
   "cell_type": "code",
   "execution_count": null,
   "id": "c88424c0-ead1-4fad-9bcd-fc3ee18c5f3e",
   "metadata": {},
   "outputs": [],
   "source": []
  },
  {
   "cell_type": "code",
   "execution_count": null,
   "id": "296fc94b-daf5-45e0-a03d-a0f5a724cacd",
   "metadata": {},
   "outputs": [],
   "source": []
  }
 ],
 "metadata": {
  "kernelspec": {
   "display_name": "Python 3",
   "language": "python",
   "name": "python3"
  },
  "language_info": {
   "codemirror_mode": {
    "name": "ipython",
    "version": 3
   },
   "file_extension": ".py",
   "mimetype": "text/x-python",
   "name": "python",
   "nbconvert_exporter": "python",
   "pygments_lexer": "ipython3",
   "version": "3.9.4"
  }
 },
 "nbformat": 4,
 "nbformat_minor": 5
}
