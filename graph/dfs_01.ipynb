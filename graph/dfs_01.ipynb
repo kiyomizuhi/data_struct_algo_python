{
 "cells": [
  {
   "cell_type": "code",
   "execution_count": 1,
   "id": "8c8c3894-7316-4dfd-becc-ac39d8b8155b",
   "metadata": {},
   "outputs": [],
   "source": [
    "import random"
   ]
  },
  {
   "cell_type": "code",
   "execution_count": 2,
   "id": "bd12b5ab-8397-41d9-9a72-18ecda78b9e4",
   "metadata": {},
   "outputs": [
    {
     "name": "stdout",
     "output_type": "stream",
     "text": [
      "num nodes :  9\n",
      "num edges :  14\n",
      "edges :  [[0, 3], [0, 4], [0, 6], [0, 8], [1, 2], [1, 6], [2, 3], [2, 8], [3, 7], [3, 8], [4, 5], [5, 6], [5, 8], [7, 8]]\n"
     ]
    }
   ],
   "source": [
    "random.seed(0)\n",
    "\n",
    "# num nodes\n",
    "N = 9\n",
    "\n",
    "edges = []\n",
    "for i in range(N - 1):\n",
    "    for j in range(i + 1, N):\n",
    "        if random.random() < 0.5:\n",
    "            edges.append([i, j])\n",
    "\n",
    "# num edges\n",
    "M = len(edges)\n",
    "\n",
    "print(\"num nodes : \", N)\n",
    "print(\"num edges : \", M)\n",
    "print(\"edges : \", edges)"
   ]
  },
  {
   "cell_type": "code",
   "execution_count": 17,
   "id": "218555cd-b771-479d-9702-6c55b5317102",
   "metadata": {},
   "outputs": [],
   "source": [
    "class Node:\n",
    "    def __init__(self, idx):\n",
    "        self.idx = idx\n",
    "        self.visited = False\n",
    "        self.neighbors = []\n",
    "        self.prev_node = None\n",
    "    \n",
    "    def __repr__(self):\n",
    "        return f'Nd {self.idx} (T)' if self.visited else f'Nd {self.idx} (F)'\n",
    "\n",
    "    def init_node(self):\n",
    "        self.visited = False\n",
    "        self.prev_node = None\n",
    "    \n",
    "    def is_visited(self):\n",
    "        return self.visited\n",
    "\n",
    "    def check_visited(self):\n",
    "        self.visited = True\n",
    "\n",
    "    def add_neighbor(self, nd):\n",
    "        self.neighbors.append(nd)\n",
    "    \n",
    "    def get_neighbors(self):\n",
    "        return self.neighbors\n",
    "    \n",
    "    def show_neighbors(self):\n",
    "        for ngb in self.neighbors:\n",
    "            print(\"({} , {})\".format(self.idx, ngb.idx))\n",
    "\n",
    "class Graph:\n",
    "    def __init__(self, N, edges):\n",
    "        self.num_nodes = N\n",
    "        self.nodes = [Node(idx) for idx in range(N)]\n",
    "        self.build_graph(edges)\n",
    "        self.init_graph()\n",
    "    \n",
    "    def __len__(self):\n",
    "        return len(self.nodes)\n",
    "    \n",
    "    def __repr__(self):\n",
    "        str_ = \"\"\n",
    "        for nd in self.nodes:\n",
    "            for ngb in nd.get_neighbors():\n",
    "                str_ += \"({} , {})\\n\".format(nd.idx, ngb.idx)\n",
    "        return str_[:-1]\n",
    "\n",
    "    def build_graph(self, edges):\n",
    "        for edge in edges:\n",
    "            self.add_edge(edge)\n",
    "\n",
    "    def init_graph(self):\n",
    "        for nd in self.nodes:\n",
    "            nd.init_node()\n",
    "    \n",
    "    def show_nodes(self):\n",
    "        for nd in self.nodes:\n",
    "            print(nd)\n",
    "    \n",
    "    def add_edge(self, edge):\n",
    "        self.nodes[edge[0]].add_neighbor(self.nodes[edge[1]])"
   ]
  },
  {
   "cell_type": "code",
   "execution_count": 18,
   "id": "593116b3-23e7-4417-944f-36b85f0b73d8",
   "metadata": {},
   "outputs": [],
   "source": [
    "def dfs(G, nd):\n",
    "    for nb in nd.get_neighbors():\n",
    "        if nb.is_visited():\n",
    "            continue\n",
    "#         nb.check_visited()\n",
    "        print(nd, ' , ', nb)\n",
    "        dfs(G, nb)\n",
    "        nb.check_visited()\n",
    "\n",
    "def traverse(G):\n",
    "    G.init_graph()\n",
    "\n",
    "    if G.num_nodes == 0:\n",
    "        raise ValueError(\"graph must contain at least 1 node\")\n",
    "\n",
    "    for nd in G.nodes:\n",
    "        if nd.is_visited():\n",
    "            continue\n",
    "        dfs(G, nd)\n",
    "        nd.check_visited()\n",
    "    \n",
    "    print()\n",
    "    G.show_nodes()"
   ]
  },
  {
   "cell_type": "code",
   "execution_count": 19,
   "id": "442b3e3d-2f51-47f5-9845-e33a9c83d3c9",
   "metadata": {},
   "outputs": [
    {
     "name": "stdout",
     "output_type": "stream",
     "text": [
      "(0 , 3)\n",
      "(0 , 4)\n",
      "(0 , 6)\n",
      "(0 , 8)\n",
      "(1 , 2)\n",
      "(1 , 6)\n",
      "(2 , 3)\n",
      "(2 , 8)\n",
      "(3 , 7)\n",
      "(3 , 8)\n",
      "(4 , 5)\n",
      "(5 , 6)\n",
      "(5 , 8)\n",
      "(7 , 8)\n"
     ]
    }
   ],
   "source": [
    "G = Graph(N, edges)\n",
    "print(G)"
   ]
  },
  {
   "cell_type": "code",
   "execution_count": 20,
   "id": "dc46b404-1b69-42c9-967e-ff6a8e5fb040",
   "metadata": {},
   "outputs": [
    {
     "name": "stdout",
     "output_type": "stream",
     "text": [
      "Nd 0 (F)  ,  Nd 3 (F)\n",
      "Nd 3 (F)  ,  Nd 7 (F)\n",
      "Nd 7 (F)  ,  Nd 8 (F)\n",
      "Nd 0 (F)  ,  Nd 4 (F)\n",
      "Nd 4 (F)  ,  Nd 5 (F)\n",
      "Nd 5 (F)  ,  Nd 6 (F)\n",
      "Nd 1 (F)  ,  Nd 2 (F)\n",
      "\n",
      "Nd 0 (T)\n",
      "Nd 1 (T)\n",
      "Nd 2 (T)\n",
      "Nd 3 (T)\n",
      "Nd 4 (T)\n",
      "Nd 5 (T)\n",
      "Nd 6 (T)\n",
      "Nd 7 (T)\n",
      "Nd 8 (T)\n"
     ]
    }
   ],
   "source": [
    "traverse(G)"
   ]
  },
  {
   "cell_type": "code",
   "execution_count": null,
   "id": "f1af2783-c5fd-4080-b76a-f48e8079a955",
   "metadata": {},
   "outputs": [],
   "source": []
  },
  {
   "cell_type": "code",
   "execution_count": null,
   "id": "158a7227-422f-4a59-a9e0-e2716820dcad",
   "metadata": {},
   "outputs": [],
   "source": []
  },
  {
   "cell_type": "code",
   "execution_count": null,
   "id": "962bbf71-d17e-476a-a5a0-037cfeff4c6f",
   "metadata": {},
   "outputs": [],
   "source": []
  },
  {
   "cell_type": "code",
   "execution_count": null,
   "id": "ef9dd470-59da-4286-a7c8-ed62d7d4a546",
   "metadata": {},
   "outputs": [],
   "source": []
  },
  {
   "cell_type": "code",
   "execution_count": null,
   "id": "00cc1f7d-03d2-4fbb-bbdf-0d1cc1c98c31",
   "metadata": {},
   "outputs": [],
   "source": []
  },
  {
   "cell_type": "code",
   "execution_count": null,
   "id": "0551e102-daed-4f90-95b5-6c1a83f5562d",
   "metadata": {},
   "outputs": [],
   "source": []
  },
  {
   "cell_type": "code",
   "execution_count": null,
   "id": "4c22a4cc-17da-4e53-9168-38bf5f2748e9",
   "metadata": {},
   "outputs": [],
   "source": []
  },
  {
   "cell_type": "code",
   "execution_count": null,
   "id": "b7813a63-bca6-4147-a307-bf62d4c93050",
   "metadata": {},
   "outputs": [],
   "source": []
  },
  {
   "cell_type": "code",
   "execution_count": null,
   "id": "e4279d98-21db-4c1a-b278-8dab53b981b2",
   "metadata": {},
   "outputs": [],
   "source": []
  },
  {
   "cell_type": "code",
   "execution_count": null,
   "id": "36b95942-c5f1-4433-a83e-d69ff451e06a",
   "metadata": {},
   "outputs": [],
   "source": []
  },
  {
   "cell_type": "code",
   "execution_count": null,
   "id": "f0e244b9-512c-4b6d-8af7-3fb2b8b54861",
   "metadata": {},
   "outputs": [],
   "source": []
  },
  {
   "cell_type": "code",
   "execution_count": null,
   "id": "c88424c0-ead1-4fad-9bcd-fc3ee18c5f3e",
   "metadata": {},
   "outputs": [],
   "source": []
  },
  {
   "cell_type": "code",
   "execution_count": 7,
   "id": "4f460f54-283e-45c3-8f6f-e4fd113db7e0",
   "metadata": {},
   "outputs": [
    {
     "ename": "NameError",
     "evalue": "name 'data' is not defined",
     "output_type": "error",
     "traceback": [
      "\u001b[0;31m---------------------------------------------------------------------------\u001b[0m",
      "\u001b[0;31mNameError\u001b[0m                                 Traceback (most recent call last)",
      "\u001b[0;32m<ipython-input-7-021508706f20>\u001b[0m in \u001b[0;36m<module>\u001b[0;34m\u001b[0m\n\u001b[1;32m      5\u001b[0m     \u001b[0;32mreturn\u001b[0m \u001b[0mG\u001b[0m\u001b[0;34m\u001b[0m\u001b[0;34m\u001b[0m\u001b[0m\n\u001b[1;32m      6\u001b[0m \u001b[0;34m\u001b[0m\u001b[0m\n\u001b[0;32m----> 7\u001b[0;31m \u001b[0mG\u001b[0m \u001b[0;34m=\u001b[0m \u001b[0mgenerate_graph\u001b[0m\u001b[0;34m(\u001b[0m\u001b[0mN\u001b[0m\u001b[0;34m,\u001b[0m \u001b[0mdata\u001b[0m\u001b[0;34m)\u001b[0m\u001b[0;34m\u001b[0m\u001b[0;34m\u001b[0m\u001b[0m\n\u001b[0m\u001b[1;32m      8\u001b[0m \u001b[0mG\u001b[0m\u001b[0;34m\u001b[0m\u001b[0;34m\u001b[0m\u001b[0m\n",
      "\u001b[0;31mNameError\u001b[0m: name 'data' is not defined"
     ]
    }
   ],
   "source": [
    "def generate_graph(N, data):\n",
    "    G = {n : [] for n in range(N)}\n",
    "    for n1, n2 in data:\n",
    "        G[n1].append(n2)\n",
    "    return G\n",
    "\n",
    "G = generate_graph(N, data)\n",
    "G"
   ]
  },
  {
   "cell_type": "code",
   "execution_count": null,
   "id": "f9670926-8115-4723-ad1f-fd28fee3c189",
   "metadata": {},
   "outputs": [],
   "source": [
    "def dfs(G, n, status):\n",
    "    for nn in G[n]:\n",
    "        if status[nn]:\n",
    "            continue\n",
    "        status[nn] = True\n",
    "        print(n, nn)\n",
    "        dfs(G, nn, status)\n",
    "\n",
    "def graph_traversal(G, s=0):\n",
    "    status = [False] * len(G)\n",
    "    if len(G) == 0:\n",
    "        raise ValueError(\"graph must contain at least 1 node\")\n",
    "\n",
    "    dfs(G, s, status)\n",
    "    for n in range(N):\n",
    "        if status[n]:\n",
    "            continue\n",
    "        status[n] = True\n",
    "        dfs(G, n, status)\n",
    "    print(status)"
   ]
  },
  {
   "cell_type": "code",
   "execution_count": null,
   "id": "2469f982-1363-4fb1-82af-cda2dc209c3d",
   "metadata": {},
   "outputs": [],
   "source": [
    "graph_traversal(G, s=3)"
   ]
  },
  {
   "cell_type": "code",
   "execution_count": null,
   "id": "296fc94b-daf5-45e0-a03d-a0f5a724cacd",
   "metadata": {},
   "outputs": [],
   "source": []
  }
 ],
 "metadata": {
  "kernelspec": {
   "display_name": "Python 3",
   "language": "python",
   "name": "python3"
  },
  "language_info": {
   "codemirror_mode": {
    "name": "ipython",
    "version": 3
   },
   "file_extension": ".py",
   "mimetype": "text/x-python",
   "name": "python",
   "nbconvert_exporter": "python",
   "pygments_lexer": "ipython3",
   "version": "3.9.4"
  }
 },
 "nbformat": 4,
 "nbformat_minor": 5
}
