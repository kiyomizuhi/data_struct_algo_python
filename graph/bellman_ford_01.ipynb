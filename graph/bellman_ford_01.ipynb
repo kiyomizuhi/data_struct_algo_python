{
 "cells": [
  {
   "cell_type": "code",
   "execution_count": 1,
   "id": "bd12b5ab-8397-41d9-9a72-18ecda78b9e4",
   "metadata": {},
   "outputs": [
    {
     "name": "stdout",
     "output_type": "stream",
     "text": [
      "num nodes :  9\n",
      "num edges :  14\n",
      "[[0, 3, -1], [0, 5, 1], [0, 7, -3], [1, 2, -6], [1, 4, 8], [1, 8, -7], [2, 5, -6], [2, 6, 1], [3, 5, 7], [3, 6, 8], [3, 8, 3], [5, 7, 1], [6, 7, 9], [6, 8, -5]]\n"
     ]
    }
   ],
   "source": [
    "import random\n",
    "\n",
    "random.seed(0)\n",
    "\n",
    "# num nodes\n",
    "N = 9\n",
    "\n",
    "data = []\n",
    "for i in range(N - 1):\n",
    "    for j in range(i + 1, N):\n",
    "        if random.random() < 0.5:\n",
    "            w = random.randint(1, 20) - 10\n",
    "            w = w if w !=0 else 1\n",
    "            data.append([i, j, w])\n",
    "\n",
    "# num edges\n",
    "M = len(data)\n",
    "\n",
    "print(\"num nodes : \", N)\n",
    "print(\"num edges : \", M)\n",
    "print(data)"
   ]
  },
  {
   "cell_type": "code",
   "execution_count": 2,
   "id": "218555cd-b771-479d-9702-6c55b5317102",
   "metadata": {},
   "outputs": [],
   "source": [
    "import sys\n",
    "\n",
    "class Node:\n",
    "    def __init__(self, idx):\n",
    "        self.idx = idx\n",
    "        self.used = False\n",
    "        self.prev = None\n",
    "        self.dist = float(\"INF\")\n",
    "        self.step = float(\"INF\")\n",
    "\n",
    "    def __repr__(self):\n",
    "        return f'{self.idx}/T' if self.used else f'{self.idx}/F'\n",
    "\n",
    "    def init_node(self):\n",
    "        self.used = False\n",
    "        self.prev = None\n",
    "        self.dist = float(\"INF\")\n",
    "        self.step = float(\"INF\")\n",
    "\n",
    "\n",
    "class Edge:\n",
    "    def __init__(self, nds, nde, w):\n",
    "        self.s = nds\n",
    "        self.e = nde\n",
    "        self.w = w\n",
    "    \n",
    "    def __repr__(self):\n",
    "        return f\"{self.s} , {self.e} ({self.w})\"\n",
    "\n",
    "    \n",
    "class Graph:\n",
    "    def __init__(self, N, data):\n",
    "        if N <= 0:\n",
    "            raise ValueError(\"graph must contain at least 1 node\")\n",
    "\n",
    "        self.num_nodes = N\n",
    "        self.nodes = [Node(idx) for idx in range(N)]\n",
    "        self.edges = [Edge(self.nodes[i], self.nodes[j], w) for i, j, w in data]\n",
    "        self.graph = [[] for _ in range(N)]\n",
    "        self.build_graph()\n",
    "    \n",
    "    def __len__(self):\n",
    "        return self.num_nodes\n",
    "    \n",
    "    def __repr__(self):\n",
    "        str_ = \"\"\n",
    "        for edges in self.graph:\n",
    "            if len(edges) == 0:\n",
    "                continue\n",
    "            str_ += \"{} -> [\".format(edges[0].s)\n",
    "            for edge in edges:\n",
    "                str_ += \" {} ({}),\".format(edge.e, edge.w)\n",
    "            str_ =  str_ + \"]\\n\"\n",
    "        return str_[:-1]\n",
    "\n",
    "    def build_graph(self):\n",
    "        for edge in self.edges:\n",
    "            self.graph[edge.s.idx].append(edge)\n",
    "\n",
    "    def init_graph(self):\n",
    "        for nd in self.nodes:\n",
    "            nd.init_node()\n",
    "    \n",
    "    def show_nodes(self):\n",
    "        for nd in self.nodes:\n",
    "            print(nd)\n",
    "\n",
    "    def get_edges(self, nd):\n",
    "        return self.graph[nd.idx]\n",
    "\n"
   ]
  },
  {
   "cell_type": "code",
   "execution_count": 3,
   "id": "49ea52a8-abdd-404b-be83-791877fe97c6",
   "metadata": {},
   "outputs": [],
   "source": [
    "def bellman_ford(G, N, s=0):\n",
    "    G.init_graph()\n",
    "    \n",
    "    nd = G.nodes[s]\n",
    "    nd.dist = 0\n",
    "    nd.step = 0\n",
    "    \n",
    "    has_negative_cycle = False\n",
    "\n",
    "    for iter_ in range(N):\n",
    "        update = False\n",
    "        for nd in G.nodes:\n",
    "            if nd.dist == float(\"INF\"):\n",
    "                continue\n",
    "\n",
    "            for edge in G.get_edges(nd):\n",
    "                nb, w = edge.e, edge.w\n",
    "                if nb.dist > nd.dist + w:\n",
    "                    nb.dist = nd.dist + w\n",
    "                    nb.step = nd.dist + 1\n",
    "                    nb.prev = nd\n",
    "                    update = True\n",
    "\n",
    "        if not update:\n",
    "            break\n",
    "        \n",
    "        if (iter_ == N - 1) & update:\n",
    "            has_negative_cycle = True\n",
    "            \n",
    "\n",
    "def get_path(G, N, s, e):\n",
    "    bellman_ford(G, N, s=0)\n",
    "    path = []\n",
    "    nd = G.nodes[e]\n",
    "\n",
    "    while nd:\n",
    "        path.append(nd)\n",
    "        nd = nd.prev\n",
    "\n",
    "    path = path[::-1]\n",
    "    \n",
    "    if path[0].idx == s:\n",
    "        return path, G.nodes[e].dist, G.nodes[e].step\n",
    "    else:\n",
    "        print(f\"nodes {s} and {e} are not connected\")"
   ]
  },
  {
   "cell_type": "code",
   "execution_count": 4,
   "id": "442b3e3d-2f51-47f5-9845-e33a9c83d3c9",
   "metadata": {},
   "outputs": [
    {
     "name": "stdout",
     "output_type": "stream",
     "text": [
      "0/F -> [ 3/F (-1), 5/F (1), 7/F (-3),]\n",
      "1/F -> [ 2/F (-6), 4/F (8), 8/F (-7),]\n",
      "2/F -> [ 5/F (-6), 6/F (1),]\n",
      "3/F -> [ 5/F (7), 6/F (8), 8/F (3),]\n",
      "5/F -> [ 7/F (1),]\n",
      "6/F -> [ 7/F (9), 8/F (-5),]\n"
     ]
    }
   ],
   "source": [
    "G = Graph(N, data)\n",
    "print(G)"
   ]
  },
  {
   "cell_type": "code",
   "execution_count": 5,
   "id": "0551e102-daed-4f90-95b5-6c1a83f5562d",
   "metadata": {
    "tags": []
   },
   "outputs": [],
   "source": [
    "bellman_ford(G, N, s=0)"
   ]
  },
  {
   "cell_type": "code",
   "execution_count": 6,
   "id": "b7813a63-bca6-4147-a307-bf62d4c93050",
   "metadata": {},
   "outputs": [
    {
     "name": "stdout",
     "output_type": "stream",
     "text": [
      "[0/F, 3/F, 8/F]\n",
      "2 0\n"
     ]
    }
   ],
   "source": [
    "path, dist, step = get_path(G, N, s=0, e=8)\n",
    "print(path)\n",
    "print(dist, step)"
   ]
  },
  {
   "cell_type": "code",
   "execution_count": 7,
   "id": "36b95942-c5f1-4433-a83e-d69ff451e06a",
   "metadata": {},
   "outputs": [
    {
     "name": "stdout",
     "output_type": "stream",
     "text": [
      "0/F 0 0\n",
      "1/F inf inf\n",
      "2/F inf inf\n",
      "3/F -1 1\n",
      "4/F inf inf\n",
      "5/F 1 1\n",
      "6/F 7 0\n",
      "7/F -3 1\n",
      "8/F 2 0\n"
     ]
    }
   ],
   "source": [
    "for nd in G.nodes:\n",
    "    print(nd, nd.dist, nd.step)"
   ]
  },
  {
   "cell_type": "code",
   "execution_count": null,
   "id": "c88424c0-ead1-4fad-9bcd-fc3ee18c5f3e",
   "metadata": {},
   "outputs": [],
   "source": []
  },
  {
   "cell_type": "code",
   "execution_count": null,
   "id": "296fc94b-daf5-45e0-a03d-a0f5a724cacd",
   "metadata": {},
   "outputs": [],
   "source": []
  }
 ],
 "metadata": {
  "kernelspec": {
   "display_name": "Python 3",
   "language": "python",
   "name": "python3"
  },
  "language_info": {
   "codemirror_mode": {
    "name": "ipython",
    "version": 3
   },
   "file_extension": ".py",
   "mimetype": "text/x-python",
   "name": "python",
   "nbconvert_exporter": "python",
   "pygments_lexer": "ipython3",
   "version": "3.9.4"
  }
 },
 "nbformat": 4,
 "nbformat_minor": 5
}
