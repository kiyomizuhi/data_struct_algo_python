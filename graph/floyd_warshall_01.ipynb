{
 "cells": [
  {
   "cell_type": "code",
   "execution_count": 1,
   "id": "bd12b5ab-8397-41d9-9a72-18ecda78b9e4",
   "metadata": {
    "tags": []
   },
   "outputs": [
    {
     "name": "stdout",
     "output_type": "stream",
     "text": [
      "num nodes :  9\n",
      "num edges :  14\n",
      "[[0, 3, 9], [0, 5, 10], [0, 7, 7], [1, 2, 4], [1, 4, 18], [1, 8, 3], [2, 5, 4], [2, 6, 11], [3, 5, 17], [3, 6, 18], [3, 8, 13], [5, 7, 11], [6, 7, 19], [6, 8, 5]]\n"
     ]
    }
   ],
   "source": [
    "import random\n",
    "\n",
    "random.seed(0)\n",
    "\n",
    "# num nodes\n",
    "N = 9\n",
    "\n",
    "data = []\n",
    "for i in range(N - 1):\n",
    "    for j in range(i + 1, N):\n",
    "        if random.random() < 0.5:\n",
    "            w = random.randint(1, 20)\n",
    "            data.append([i, j, w])\n",
    "\n",
    "# num edges\n",
    "M = len(data)\n",
    "\n",
    "print(\"num nodes : \", N)\n",
    "print(\"num edges : \", M)\n",
    "print(data)"
   ]
  },
  {
   "cell_type": "code",
   "execution_count": 2,
   "id": "218555cd-b771-479d-9702-6c55b5317102",
   "metadata": {},
   "outputs": [],
   "source": [
    "import sys\n",
    "\n",
    "class Node:\n",
    "    def __init__(self, idx):\n",
    "        self.idx = idx\n",
    "        self.used = False\n",
    "        self.dist = sys.maxsize\n",
    "    \n",
    "    def __repr__(self):\n",
    "        return f'{self.idx}/T' if self.used else f'{self.idx}/F'\n",
    "\n",
    "    def init_node(self):\n",
    "        self.used = False\n",
    "        self.prev = None\n",
    "        self.dist = sys.maxsize\n",
    "\n",
    "\n",
    "class Edge:\n",
    "    def __init__(self, nds, nde, w):\n",
    "        self.s = nds\n",
    "        self.e = nde\n",
    "        self.w = w\n",
    "    \n",
    "    def __repr__(self):\n",
    "        return f\"{self.s} , {self.e} ({self.w})\"\n",
    "\n",
    "    \n",
    "class Graph:\n",
    "    def __init__(self, N, data):\n",
    "        if N <= 0:\n",
    "            raise ValueError(\"graph must contain at least 1 node\")\n",
    "\n",
    "        self.num_nodes = N\n",
    "        self.nodes = [Node(idx) for idx in range(N)]\n",
    "        self.edges = [Edge(self.nodes[i], self.nodes[j], w) for i, j, w in data]\n",
    "        self.graph = [[] for _ in range(N)]\n",
    "        self.build_graph()\n",
    "    \n",
    "    def __len__(self):\n",
    "        return self.num_nodes\n",
    "    \n",
    "    def __repr__(self):\n",
    "        str_ = \"\"\n",
    "        for edges in self.graph:\n",
    "            if len(edges) == 0:\n",
    "                continue\n",
    "            str_ += \"{} -> [\".format(edges[0].s)\n",
    "            for edge in edges:\n",
    "                str_ += \" {} ({}),\".format(edge.e, edge.w)\n",
    "            str_ =  str_ + \"]\\n\"\n",
    "        return str_[:-1]\n",
    "\n",
    "    def build_graph(self):\n",
    "        for edge in self.edges:\n",
    "            self.graph[edge.s.idx].append(edge)\n",
    "\n",
    "    def init_graph(self):\n",
    "        for nd in self.nodes:\n",
    "            nd.init_node()\n",
    "    \n",
    "    def show_nodes(self):\n",
    "        for nd in self.nodes:\n",
    "            print(nd)\n",
    "\n",
    "    def get_edges(self, nd):\n",
    "        return self.graph[nd.idx]\n"
   ]
  },
  {
   "cell_type": "code",
   "execution_count": 3,
   "id": "49ea52a8-abdd-404b-be83-791877fe97c6",
   "metadata": {},
   "outputs": [],
   "source": [
    "def floyd_warshall(G, N):\n",
    "    G.init_graph()\n",
    "    \n",
    "    dp = [[sys.maxsize for i in range(N)] for j in range(N)]\n",
    "    md = [[-2 for i in range(N)] for j in range(N)]\n",
    "    \n",
    "    for i in range(N):\n",
    "        dp[i][i] = 0\n",
    "        md[i][i] = i\n",
    "    \n",
    "    for edge in G.edges:\n",
    "        dp[edge.s.idx][edge.e.idx] = edge.w\n",
    "        md[edge.s.idx][edge.e.idx] = -1\n",
    "    \n",
    "    for k in range(N):\n",
    "        for i in range(N):\n",
    "            for j in range(N):\n",
    "                if dp[i][j] > dp[i][k] + dp[k][j]:\n",
    "                    dp[i][j] = dp[i][k] + dp[k][j]\n",
    "                    md[i][j] = k\n",
    "\n",
    "    return dp, md\n",
    "\n",
    "def get_path(md, s, e):\n",
    "    if md[s][e] == -2:\n",
    "        return \"not connected\"\n",
    "    if md[s][e] == -1:\n",
    "        return [s, e]\n",
    "\n",
    "    k = md[s][e]\n",
    "    sk = get_path(md, s, k)\n",
    "    ke = get_path(md, k, e)\n",
    "    \n",
    "    return sk + ke[1:]"
   ]
  },
  {
   "cell_type": "code",
   "execution_count": 4,
   "id": "442b3e3d-2f51-47f5-9845-e33a9c83d3c9",
   "metadata": {
    "tags": []
   },
   "outputs": [],
   "source": [
    "G = Graph(N, data)"
   ]
  },
  {
   "cell_type": "code",
   "execution_count": 5,
   "id": "0551e102-daed-4f90-95b5-6c1a83f5562d",
   "metadata": {
    "tags": []
   },
   "outputs": [],
   "source": [
    "dp, md = floyd_warshall(G, N)"
   ]
  },
  {
   "cell_type": "code",
   "execution_count": 6,
   "id": "73b292ef-a8f9-4498-8c71-d2a11ceee7b6",
   "metadata": {
    "tags": []
   },
   "outputs": [
    {
     "data": {
      "text/plain": [
       "[[0,\n",
       "  9223372036854775807,\n",
       "  9223372036854775807,\n",
       "  9,\n",
       "  9223372036854775807,\n",
       "  10,\n",
       "  27,\n",
       "  7,\n",
       "  22],\n",
       " [9223372036854775807, 0, 4, 9223372036854775807, 18, 8, 15, 19, 3],\n",
       " [9223372036854775807,\n",
       "  9223372036854775807,\n",
       "  0,\n",
       "  9223372036854775807,\n",
       "  9223372036854775807,\n",
       "  4,\n",
       "  11,\n",
       "  15,\n",
       "  16],\n",
       " [9223372036854775807,\n",
       "  9223372036854775807,\n",
       "  9223372036854775807,\n",
       "  0,\n",
       "  9223372036854775807,\n",
       "  17,\n",
       "  18,\n",
       "  28,\n",
       "  13],\n",
       " [9223372036854775807,\n",
       "  9223372036854775807,\n",
       "  9223372036854775807,\n",
       "  9223372036854775807,\n",
       "  0,\n",
       "  9223372036854775807,\n",
       "  9223372036854775807,\n",
       "  9223372036854775807,\n",
       "  9223372036854775807],\n",
       " [9223372036854775807,\n",
       "  9223372036854775807,\n",
       "  9223372036854775807,\n",
       "  9223372036854775807,\n",
       "  9223372036854775807,\n",
       "  0,\n",
       "  9223372036854775807,\n",
       "  11,\n",
       "  9223372036854775807],\n",
       " [9223372036854775807,\n",
       "  9223372036854775807,\n",
       "  9223372036854775807,\n",
       "  9223372036854775807,\n",
       "  9223372036854775807,\n",
       "  9223372036854775807,\n",
       "  0,\n",
       "  19,\n",
       "  5],\n",
       " [9223372036854775807,\n",
       "  9223372036854775807,\n",
       "  9223372036854775807,\n",
       "  9223372036854775807,\n",
       "  9223372036854775807,\n",
       "  9223372036854775807,\n",
       "  9223372036854775807,\n",
       "  0,\n",
       "  9223372036854775807],\n",
       " [9223372036854775807,\n",
       "  9223372036854775807,\n",
       "  9223372036854775807,\n",
       "  9223372036854775807,\n",
       "  9223372036854775807,\n",
       "  9223372036854775807,\n",
       "  9223372036854775807,\n",
       "  9223372036854775807,\n",
       "  0]]"
      ]
     },
     "execution_count": 6,
     "metadata": {},
     "output_type": "execute_result"
    }
   ],
   "source": [
    "dp"
   ]
  },
  {
   "cell_type": "code",
   "execution_count": 7,
   "id": "e3ebec41-acda-4422-9c28-921be50728a4",
   "metadata": {
    "tags": []
   },
   "outputs": [
    {
     "data": {
      "text/plain": [
       "[[0, -2, -2, -1, -2, -1, 3, -1, 3],\n",
       " [-2, 1, -1, -2, -1, 2, 2, 5, -1],\n",
       " [-2, -2, 2, -2, -2, -1, -1, 5, 6],\n",
       " [-2, -2, -2, 3, -2, -1, -1, 5, -1],\n",
       " [-2, -2, -2, -2, 4, -2, -2, -2, -2],\n",
       " [-2, -2, -2, -2, -2, 5, -2, -1, -2],\n",
       " [-2, -2, -2, -2, -2, -2, 6, -1, -1],\n",
       " [-2, -2, -2, -2, -2, -2, -2, 7, -2],\n",
       " [-2, -2, -2, -2, -2, -2, -2, -2, 8]]"
      ]
     },
     "execution_count": 7,
     "metadata": {},
     "output_type": "execute_result"
    }
   ],
   "source": [
    "md"
   ]
  },
  {
   "cell_type": "code",
   "execution_count": 8,
   "id": "b7813a63-bca6-4147-a307-bf62d4c93050",
   "metadata": {},
   "outputs": [
    {
     "name": "stdout",
     "output_type": "stream",
     "text": [
      "[0, 3, 8] 22\n"
     ]
    }
   ],
   "source": [
    "s = 0\n",
    "e = 8\n",
    "path = get_path(md, s, e)\n",
    "print(path, dp[s][e])"
   ]
  },
  {
   "cell_type": "code",
   "execution_count": 9,
   "id": "c88424c0-ead1-4fad-9bcd-fc3ee18c5f3e",
   "metadata": {},
   "outputs": [
    {
     "data": {
      "text/plain": [
       "0/F , 3/F (9)"
      ]
     },
     "execution_count": 9,
     "metadata": {},
     "output_type": "execute_result"
    }
   ],
   "source": [
    "G.graph[0][0]"
   ]
  },
  {
   "cell_type": "code",
   "execution_count": 10,
   "id": "296fc94b-daf5-45e0-a03d-a0f5a724cacd",
   "metadata": {},
   "outputs": [
    {
     "data": {
      "text/plain": [
       "3/F , 8/F (13)"
      ]
     },
     "execution_count": 10,
     "metadata": {},
     "output_type": "execute_result"
    }
   ],
   "source": [
    "G.graph[3][2]"
   ]
  },
  {
   "cell_type": "code",
   "execution_count": null,
   "id": "c1e3fb90-a45e-4c89-9fef-6c01d6ba39b0",
   "metadata": {},
   "outputs": [],
   "source": []
  }
 ],
 "metadata": {
  "kernelspec": {
   "display_name": "Python 3",
   "language": "python",
   "name": "python3"
  },
  "language_info": {
   "codemirror_mode": {
    "name": "ipython",
    "version": 3
   },
   "file_extension": ".py",
   "mimetype": "text/x-python",
   "name": "python",
   "nbconvert_exporter": "python",
   "pygments_lexer": "ipython3",
   "version": "3.9.4"
  }
 },
 "nbformat": 4,
 "nbformat_minor": 5
}
