{
 "cells": [
  {
   "cell_type": "code",
   "execution_count": 1,
   "id": "bd12b5ab-8397-41d9-9a72-18ecda78b9e4",
   "metadata": {},
   "outputs": [
    {
     "name": "stdout",
     "output_type": "stream",
     "text": [
      "num nodes :  9\n",
      "num edges :  25\n",
      "[[0, 2, 14], [0, 3, 17], [0, 4, 10], [0, 6, 7], [0, 7, 10], [0, 8, 4], [1, 2, 9], [1, 4, 20], [1, 6, 3], [1, 8, 16], [2, 3, 12], [2, 4, 20], [2, 5, 7], [2, 7, 17], [2, 8, 18], [3, 5, 13], [3, 6, 1], [3, 7, 11], [3, 8, 11], [4, 5, 3], [4, 6, 19], [4, 7, 5], [5, 6, 3], [6, 8, 10], [7, 8, 4]]\n"
     ]
    }
   ],
   "source": [
    "import random\n",
    "\n",
    "random.seed(0)\n",
    "\n",
    "# num nodes\n",
    "N = 9\n",
    "\n",
    "data = []\n",
    "for i in range(N - 1):\n",
    "    for j in range(i + 1, N):\n",
    "        if random.random() < 0.8:\n",
    "            w = random.randint(1, 20)\n",
    "            data.append([i, j, w])\n",
    "\n",
    "# num edges\n",
    "M = len(data)\n",
    "\n",
    "print(\"num nodes : \", N)\n",
    "print(\"num edges : \", M)\n",
    "print(data)"
   ]
  },
  {
   "cell_type": "code",
   "execution_count": 2,
   "id": "2b937925-c2e8-4a86-b0c2-767be73d3b02",
   "metadata": {},
   "outputs": [],
   "source": [
    "# N = 4\n",
    "\n",
    "# data = [\n",
    "#     [0, 1, 1],\n",
    "#     [1, 2, 1],\n",
    "#     [2, 3, 1],\n",
    "#     [0, 3, 3],\n",
    "# ]"
   ]
  },
  {
   "cell_type": "code",
   "execution_count": 3,
   "id": "218555cd-b771-479d-9702-6c55b5317102",
   "metadata": {},
   "outputs": [],
   "source": [
    "import sys\n",
    "\n",
    "class Node:\n",
    "    def __init__(self, idx):\n",
    "        self.idx = idx\n",
    "        self.used = False\n",
    "        self.prev = None\n",
    "        self.dist = sys.maxsize\n",
    "    \n",
    "    def __repr__(self):\n",
    "        return f'{self.idx}/T' if self.used else f'{self.idx}/F'\n",
    "\n",
    "    def init_node(self):\n",
    "        self.used = False\n",
    "        self.prev = None\n",
    "        self.dist = sys.maxsize\n",
    "\n",
    "class Edge:\n",
    "    def __init__(self, nds, nde, w):\n",
    "        self.s = nds\n",
    "        self.e = nde\n",
    "        self.w = w\n",
    "    \n",
    "    def __repr__(self):\n",
    "        return f\"{self.s} , {self.e} ({self.w})\"\n",
    "\n",
    "    \n",
    "class Graph:\n",
    "    def __init__(self, N, data):\n",
    "        if N <= 0:\n",
    "            raise ValueError(\"graph must contain at least 1 node\")\n",
    "\n",
    "        self.num_nodes = N\n",
    "        self.nodes = [Node(idx) for idx in range(N)]\n",
    "        self.edges = [Edge(self.nodes[i], self.nodes[j], w) for i, j, w in data]\n",
    "        self.graph = {nd : [] for nd in self.nodes}\n",
    "        self.nexts = []\n",
    "        self.build_graph()\n",
    "    \n",
    "    def __len__(self):\n",
    "        return self.num_nodes\n",
    "    \n",
    "    def __repr__(self):\n",
    "        str_ = \"\"\n",
    "        for nd, edges in self.graph.items():\n",
    "            str_ += \"{} -> [\".format(nd)\n",
    "            for edge in edges:\n",
    "                str_ += \" {} ({}),\".format(edge.e, edge.w)\n",
    "            str_ =  str_ + \"]\\n\"\n",
    "        return str_[:-1]\n",
    "\n",
    "    def build_graph(self):\n",
    "        for edge in self.edges:\n",
    "            self.graph[edge.s].append(edge)\n",
    "\n",
    "    def init_graph(self):\n",
    "        for nd in self.nodes:\n",
    "            nd.init_node()\n",
    "    \n",
    "    def show_nodes(self):\n",
    "        for nd in self.nodes:\n",
    "            print(nd)\n",
    "\n",
    "    def get_edges(self, nd):\n",
    "        return self.graph[nd]\n"
   ]
  },
  {
   "cell_type": "code",
   "execution_count": 4,
   "id": "49ea52a8-abdd-404b-be83-791877fe97c6",
   "metadata": {},
   "outputs": [],
   "source": [
    "def dijkstra(G, s=0):\n",
    "    G.init_graph()\n",
    "\n",
    "    G.nodes[s].dist = 0\n",
    "    \n",
    "    for _ in range(N):\n",
    "        min_dist = sys.maxsize\n",
    "        min_nd = None\n",
    "\n",
    "        for nd in G.nodes:\n",
    "            if (not nd.used) & (nd.dist < min_dist):\n",
    "                min_dist = nd.dist\n",
    "                min_nd = nd\n",
    "\n",
    "        if min_nd is None:\n",
    "            break\n",
    "\n",
    "        for edge in G.get_edges(min_nd):\n",
    "            assert min_nd == edge.s\n",
    "            if edge.e.dist > edge.s.dist + edge.w:\n",
    "                edge.e.dist = edge.s.dist + edge.w\n",
    "                edge.e.prev = edge.s\n",
    "\n",
    "        min_nd.used = True\n",
    "\n",
    "\n",
    "def get_path(G, s, e):\n",
    "    dijkstra(G, s)\n",
    "    path = []\n",
    "    nd = G.nodes[e]\n",
    "\n",
    "    while nd:\n",
    "        path.append(nd)\n",
    "        nd = nd.prev\n",
    "\n",
    "    path = path[::-1]\n",
    "    \n",
    "    if path[0].idx == s:\n",
    "        return path, G.nodes[e].dist\n",
    "    else:\n",
    "        print(f\"nodes {s} and {e} are not connected\")"
   ]
  },
  {
   "cell_type": "code",
   "execution_count": 5,
   "id": "442b3e3d-2f51-47f5-9845-e33a9c83d3c9",
   "metadata": {},
   "outputs": [
    {
     "name": "stdout",
     "output_type": "stream",
     "text": [
      "0/F -> [ 2/F (14), 3/F (17), 4/F (10), 6/F (7), 7/F (10), 8/F (4),]\n",
      "1/F -> [ 2/F (9), 4/F (20), 6/F (3), 8/F (16),]\n",
      "2/F -> [ 3/F (12), 4/F (20), 5/F (7), 7/F (17), 8/F (18),]\n",
      "3/F -> [ 5/F (13), 6/F (1), 7/F (11), 8/F (11),]\n",
      "4/F -> [ 5/F (3), 6/F (19), 7/F (5),]\n",
      "5/F -> [ 6/F (3),]\n",
      "6/F -> [ 8/F (10),]\n",
      "7/F -> [ 8/F (4),]\n",
      "8/F -> []\n"
     ]
    }
   ],
   "source": [
    "G = Graph(N, data)\n",
    "print(G)"
   ]
  },
  {
   "cell_type": "code",
   "execution_count": 6,
   "id": "0551e102-daed-4f90-95b5-6c1a83f5562d",
   "metadata": {},
   "outputs": [],
   "source": [
    "dijkstra(G, s=0)"
   ]
  },
  {
   "cell_type": "code",
   "execution_count": 7,
   "id": "b7813a63-bca6-4147-a307-bf62d4c93050",
   "metadata": {},
   "outputs": [
    {
     "name": "stdout",
     "output_type": "stream",
     "text": [
      "[0/T, 8/T]\n",
      "4\n"
     ]
    }
   ],
   "source": [
    "path, dist = get_path(G, s=0, e=8)\n",
    "print(path)\n",
    "print(dist)"
   ]
  },
  {
   "cell_type": "code",
   "execution_count": null,
   "id": "36b95942-c5f1-4433-a83e-d69ff451e06a",
   "metadata": {},
   "outputs": [],
   "source": []
  },
  {
   "cell_type": "code",
   "execution_count": null,
   "id": "f0e244b9-512c-4b6d-8af7-3fb2b8b54861",
   "metadata": {},
   "outputs": [],
   "source": []
  },
  {
   "cell_type": "code",
   "execution_count": null,
   "id": "c88424c0-ead1-4fad-9bcd-fc3ee18c5f3e",
   "metadata": {},
   "outputs": [],
   "source": []
  },
  {
   "cell_type": "code",
   "execution_count": null,
   "id": "296fc94b-daf5-45e0-a03d-a0f5a724cacd",
   "metadata": {},
   "outputs": [],
   "source": []
  }
 ],
 "metadata": {
  "kernelspec": {
   "display_name": "Python 3",
   "language": "python",
   "name": "python3"
  },
  "language_info": {
   "codemirror_mode": {
    "name": "ipython",
    "version": 3
   },
   "file_extension": ".py",
   "mimetype": "text/x-python",
   "name": "python",
   "nbconvert_exporter": "python",
   "pygments_lexer": "ipython3",
   "version": "3.9.4"
  }
 },
 "nbformat": 4,
 "nbformat_minor": 5
}
