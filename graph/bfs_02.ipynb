{
 "cells": [
  {
   "cell_type": "code",
   "execution_count": 1,
   "id": "8c8c3894-7316-4dfd-becc-ac39d8b8155b",
   "metadata": {},
   "outputs": [],
   "source": [
    "import random"
   ]
  },
  {
   "cell_type": "code",
   "execution_count": 2,
   "id": "bd12b5ab-8397-41d9-9a72-18ecda78b9e4",
   "metadata": {},
   "outputs": [
    {
     "name": "stdout",
     "output_type": "stream",
     "text": [
      "num nodes :  9\n",
      "num edges :  14\n",
      "edges : \n",
      "[0, 3, 9]\n",
      "[0, 5, 10]\n",
      "[0, 7, 7]\n",
      "[1, 2, 4]\n",
      "[1, 4, 18]\n",
      "[1, 8, 3]\n",
      "[2, 5, 4]\n",
      "[2, 6, 11]\n",
      "[3, 5, 17]\n",
      "[3, 6, 18]\n",
      "[3, 8, 13]\n",
      "[5, 7, 11]\n",
      "[6, 7, 19]\n",
      "[6, 8, 5]\n"
     ]
    }
   ],
   "source": [
    "random.seed(0)\n",
    "\n",
    "# num nodes\n",
    "N = 9\n",
    "\n",
    "edges = []\n",
    "for i in range(N - 1):\n",
    "    for j in range(i + 1, N):\n",
    "        if random.random() < 0.5:\n",
    "            w = random.randint(1, 20)\n",
    "            edges.append([i, j, w])\n",
    "\n",
    "# num edges\n",
    "M = len(edges)\n",
    "\n",
    "print(\"num nodes : \", N)\n",
    "print(\"num edges : \", M)\n",
    "print(\"edges : \")\n",
    "for edge in edges:\n",
    "    print(edge)"
   ]
  },
  {
   "cell_type": "code",
   "execution_count": 3,
   "id": "218555cd-b771-479d-9702-6c55b5317102",
   "metadata": {},
   "outputs": [],
   "source": [
    "class Node:\n",
    "    def __init__(self, idx):\n",
    "        self.idx = idx\n",
    "        self.visited = False\n",
    "        self.step = -1\n",
    "        self.dist = -1\n",
    "    \n",
    "    def __repr__(self):\n",
    "        return f'Nd {self.idx} (T)' if self.visited else f'Nd {self.idx} (F)'\n",
    "\n",
    "    def init_node(self):\n",
    "        self.visited = False\n",
    "        self.dist = -1\n",
    "    \n",
    "    def is_visited(self):\n",
    "        return self.visited\n",
    "\n",
    "    def check_visited(self):\n",
    "        self.visited = True\n",
    "\n",
    "\n",
    "class Graph:\n",
    "    def __init__(self, N, edges):\n",
    "        self.num_nodes = N\n",
    "        self.nodes = [Node(idx) for idx in range(N)]\n",
    "        self.edges = edges\n",
    "        self.graph = {n : [] for n in range(N)}\n",
    "        self.build_graph()\n",
    "    \n",
    "    def __len__(self):\n",
    "        return self.num_nodes\n",
    "    \n",
    "    def __repr__(self):\n",
    "        str_ = \"\"\n",
    "        for nd, nbs in self.graph.items():\n",
    "            str_ += \"({} , {})\\n\".format(nd, nbs)\n",
    "        return str_[:-1]\n",
    "\n",
    "    def build_graph(self):\n",
    "        self.edges.sort(key = lambda x: x[1])\n",
    "        self.edges.sort(key = lambda x: x[0])\n",
    "        for edge in self.edges:\n",
    "            self.graph[edge[0]].append(edge[1:])\n",
    "        self.nexts = []\n",
    "\n",
    "    def init_graph(self):\n",
    "        for nd in self.nodes:\n",
    "            nd.init_node()\n",
    "    \n",
    "    def show_nodes(self):\n",
    "        for nd in self.nodes:\n",
    "            print(nd)\n",
    "\n",
    "    def get_neighbors(self, nd):\n",
    "        return [[self.nodes[edge[0]], edge[1]] for edge in self.graph[nd.idx]]\n",
    "    \n",
    "    def add_next(self, nd):\n",
    "        self.nexts.append(nd)\n",
    "\n",
    "    def get_next(self):\n",
    "        return self.nexts.pop(0)"
   ]
  },
  {
   "cell_type": "code",
   "execution_count": 4,
   "id": "49ea52a8-abdd-404b-be83-791877fe97c6",
   "metadata": {},
   "outputs": [],
   "source": [
    "def bfs(G, nd):\n",
    "    for nb, w in G.get_neighbors(nd):\n",
    "        if nb.is_visited():\n",
    "            continue\n",
    "        nb.check_visited()\n",
    "        G.add_next(nb)\n",
    "        nb.step = nd.step + 1\n",
    "        nb.dist = nd.dist + w\n",
    "\n",
    "def traverse(G, s=0):\n",
    "    G.init_graph()\n",
    "\n",
    "    if G.num_nodes == 0:\n",
    "        raise ValueError(\"graph must contain at least 1 node\")\n",
    "\n",
    "    nd = G.nodes[s]\n",
    "    nd.step = 0\n",
    "    nd.dist = 0\n",
    "    nd.check_visited()\n",
    "    G.add_next(nd)\n",
    "\n",
    "    while len(G.nexts) > 0:\n",
    "        nd = G.get_next()\n",
    "        bfs(G, nd)"
   ]
  },
  {
   "cell_type": "code",
   "execution_count": 5,
   "id": "442b3e3d-2f51-47f5-9845-e33a9c83d3c9",
   "metadata": {},
   "outputs": [
    {
     "name": "stdout",
     "output_type": "stream",
     "text": [
      "(0 , [[3, 9], [5, 10], [7, 7]])\n",
      "(1 , [[2, 4], [4, 18], [8, 3]])\n",
      "(2 , [[5, 4], [6, 11]])\n",
      "(3 , [[5, 17], [6, 18], [8, 13]])\n",
      "(4 , [])\n",
      "(5 , [[7, 11]])\n",
      "(6 , [[7, 19], [8, 5]])\n",
      "(7 , [])\n",
      "(8 , [])\n"
     ]
    }
   ],
   "source": [
    "G = Graph(N, edges)\n",
    "print(G)"
   ]
  },
  {
   "cell_type": "code",
   "execution_count": 6,
   "id": "dc46b404-1b69-42c9-967e-ff6a8e5fb040",
   "metadata": {},
   "outputs": [
    {
     "name": "stdout",
     "output_type": "stream",
     "text": [
      "Nd 0 (T)    0    0\n",
      "Nd 1 (F)   -1   -1\n",
      "Nd 2 (F)   -1   -1\n",
      "Nd 3 (T)    1    9\n",
      "Nd 4 (F)   -1   -1\n",
      "Nd 5 (T)    1   10\n",
      "Nd 6 (T)    2   27\n",
      "Nd 7 (T)    1    7\n",
      "Nd 8 (T)    2   22\n"
     ]
    }
   ],
   "source": [
    "traverse(G, s=0)\n",
    "for nd in G.nodes:\n",
    "    print(\"{} {:4d} {:4d}\".format(nd, nd.step, nd.dist))"
   ]
  },
  {
   "cell_type": "code",
   "execution_count": 7,
   "id": "158a7227-422f-4a59-a9e0-e2716820dcad",
   "metadata": {},
   "outputs": [
    {
     "name": "stdout",
     "output_type": "stream",
     "text": [
      "Nd 0 (F)    0   -1\n",
      "Nd 1 (F)   -1   -1\n",
      "Nd 2 (T)    0    0\n",
      "Nd 3 (F)    1   -1\n",
      "Nd 4 (F)   -1   -1\n",
      "Nd 5 (T)    1    4\n",
      "Nd 6 (T)    1   11\n",
      "Nd 7 (T)    2   15\n",
      "Nd 8 (T)    2   16\n"
     ]
    }
   ],
   "source": [
    "traverse(G, s=2)\n",
    "for nd in G.nodes:\n",
    "    print(\"{} {:4d} {:4d}\".format(nd, nd.step, nd.dist))"
   ]
  },
  {
   "cell_type": "code",
   "execution_count": null,
   "id": "962bbf71-d17e-476a-a5a0-037cfeff4c6f",
   "metadata": {},
   "outputs": [],
   "source": []
  },
  {
   "cell_type": "code",
   "execution_count": null,
   "id": "ef9dd470-59da-4286-a7c8-ed62d7d4a546",
   "metadata": {},
   "outputs": [],
   "source": []
  },
  {
   "cell_type": "code",
   "execution_count": null,
   "id": "00cc1f7d-03d2-4fbb-bbdf-0d1cc1c98c31",
   "metadata": {},
   "outputs": [],
   "source": []
  },
  {
   "cell_type": "code",
   "execution_count": null,
   "id": "0551e102-daed-4f90-95b5-6c1a83f5562d",
   "metadata": {},
   "outputs": [],
   "source": []
  },
  {
   "cell_type": "code",
   "execution_count": null,
   "id": "4c22a4cc-17da-4e53-9168-38bf5f2748e9",
   "metadata": {},
   "outputs": [],
   "source": []
  },
  {
   "cell_type": "code",
   "execution_count": null,
   "id": "b7813a63-bca6-4147-a307-bf62d4c93050",
   "metadata": {},
   "outputs": [],
   "source": []
  },
  {
   "cell_type": "code",
   "execution_count": null,
   "id": "e4279d98-21db-4c1a-b278-8dab53b981b2",
   "metadata": {},
   "outputs": [],
   "source": []
  },
  {
   "cell_type": "code",
   "execution_count": null,
   "id": "36b95942-c5f1-4433-a83e-d69ff451e06a",
   "metadata": {},
   "outputs": [],
   "source": []
  },
  {
   "cell_type": "code",
   "execution_count": null,
   "id": "f0e244b9-512c-4b6d-8af7-3fb2b8b54861",
   "metadata": {},
   "outputs": [],
   "source": []
  },
  {
   "cell_type": "code",
   "execution_count": null,
   "id": "c88424c0-ead1-4fad-9bcd-fc3ee18c5f3e",
   "metadata": {},
   "outputs": [],
   "source": []
  },
  {
   "cell_type": "code",
   "execution_count": null,
   "id": "296fc94b-daf5-45e0-a03d-a0f5a724cacd",
   "metadata": {},
   "outputs": [],
   "source": []
  }
 ],
 "metadata": {
  "kernelspec": {
   "display_name": "Python 3",
   "language": "python",
   "name": "python3"
  },
  "language_info": {
   "codemirror_mode": {
    "name": "ipython",
    "version": 3
   },
   "file_extension": ".py",
   "mimetype": "text/x-python",
   "name": "python",
   "nbconvert_exporter": "python",
   "pygments_lexer": "ipython3",
   "version": "3.9.4"
  }
 },
 "nbformat": 4,
 "nbformat_minor": 5
}
