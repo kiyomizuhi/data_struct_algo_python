{
 "cells": [
  {
   "cell_type": "code",
   "execution_count": 1,
   "id": "bd12b5ab-8397-41d9-9a72-18ecda78b9e4",
   "metadata": {
    "tags": []
   },
   "outputs": [
    {
     "name": "stdout",
     "output_type": "stream",
     "text": [
      "num nodes :  9\n",
      "num edges :  14\n",
      "[[0, 3, -1], [0, 5, 1], [0, 7, -3], [1, 2, -6], [1, 4, 8], [1, 8, -7], [2, 5, -6], [2, 6, 1], [3, 5, 7], [3, 6, 8], [3, 8, 3], [5, 7, 1], [6, 7, 9], [6, 8, -5]]\n"
     ]
    }
   ],
   "source": [
    "import random\n",
    "\n",
    "random.seed(0)\n",
    "\n",
    "# num nodes\n",
    "N = 9\n",
    "\n",
    "data = []\n",
    "for i in range(N - 1):\n",
    "    for j in range(i + 1, N):\n",
    "        if random.random() < 0.5:\n",
    "            w = random.randint(1, 20) - 10\n",
    "            w = w if w !=0 else 1\n",
    "            data.append([i, j, w])\n",
    "\n",
    "# num edges\n",
    "M = len(data)\n",
    "\n",
    "print(\"num nodes : \", N)\n",
    "print(\"num edges : \", M)\n",
    "print(data)"
   ]
  },
  {
   "cell_type": "code",
   "execution_count": 2,
   "id": "218555cd-b771-479d-9702-6c55b5317102",
   "metadata": {},
   "outputs": [],
   "source": [
    "import sys\n",
    "\n",
    "class Node:\n",
    "    def __init__(self, idx):\n",
    "        self.idx = idx\n",
    "        self.used = False\n",
    "        self.dist = sys.maxsize\n",
    "    \n",
    "    def __repr__(self):\n",
    "        return f'{self.idx}/T' if self.used else f'{self.idx}/F'\n",
    "\n",
    "    def init_node(self):\n",
    "        self.used = False\n",
    "        self.prev = None\n",
    "        self.dist = sys.maxsize\n",
    "\n",
    "\n",
    "class Edge:\n",
    "    def __init__(self, nds, nde, w):\n",
    "        self.s = nds\n",
    "        self.e = nde\n",
    "        self.w = w\n",
    "    \n",
    "    def __repr__(self):\n",
    "        return f\"{self.s} , {self.e} ({self.w})\"\n",
    "\n",
    "    \n",
    "class Graph:\n",
    "    def __init__(self, N, data):\n",
    "        if N <= 0:\n",
    "            raise ValueError(\"graph must contain at least 1 node\")\n",
    "\n",
    "        self.num_nodes = N\n",
    "        self.nodes = [Node(idx) for idx in range(N)]\n",
    "        self.edges = [Edge(self.nodes[i], self.nodes[j], w) for i, j, w in data]\n",
    "        self.graph = [[] for _ in range(N)]\n",
    "        self.build_graph()\n",
    "    \n",
    "    def __len__(self):\n",
    "        return self.num_nodes\n",
    "    \n",
    "    def __repr__(self):\n",
    "        str_ = \"\"\n",
    "        for edges in self.graph:\n",
    "            if len(edges) == 0:\n",
    "                continue\n",
    "            str_ += \"{} -> [\".format(edges[0].s)\n",
    "            for edge in edges:\n",
    "                str_ += \" {} ({}),\".format(edge.e, edge.w)\n",
    "            str_ =  str_ + \"]\\n\"\n",
    "        return str_[:-1]\n",
    "\n",
    "    def build_graph(self):\n",
    "        for edge in self.edges:\n",
    "            self.graph[edge.s.idx].append(edge)\n",
    "\n",
    "    def init_graph(self):\n",
    "        for nd in self.nodes:\n",
    "            nd.init_node()\n",
    "    \n",
    "    def show_nodes(self):\n",
    "        for nd in self.nodes:\n",
    "            print(nd)\n",
    "\n",
    "    def get_edges(self, nd):\n",
    "        return self.graph[nd.idx]\n"
   ]
  },
  {
   "cell_type": "code",
   "execution_count": 3,
   "id": "49ea52a8-abdd-404b-be83-791877fe97c6",
   "metadata": {},
   "outputs": [],
   "source": [
    "def floyd_warshall(G, N):\n",
    "    G.init_graph()\n",
    "    \n",
    "    dp = [[float('INF') for i in range(N)] for j in range(N)]\n",
    "    md = [[-2 for i in range(N)] for j in range(N)]\n",
    "    \n",
    "    for i in range(N):\n",
    "        dp[i][i] = 0\n",
    "        md[i][i] = i\n",
    "    \n",
    "    for edge in G.edges:\n",
    "        dp[edge.s.idx][edge.e.idx] = edge.w\n",
    "        md[edge.s.idx][edge.e.idx] = -1\n",
    "    \n",
    "    for k in range(N):\n",
    "        for i in range(N):\n",
    "            for j in range(N):\n",
    "                if dp[i][j] > dp[i][k] + dp[k][j]:\n",
    "                    print(i, j, k)\n",
    "                    print(dp[i][j], dp[i][k], dp[k][j])\n",
    "                    print()\n",
    "                    dp[i][j] = dp[i][k] + dp[k][j]\n",
    "                    md[i][j] = k\n",
    "\n",
    "    return dp, md\n",
    "\n",
    "def get_path(md, s, e):\n",
    "    if md[s][e] == -2:\n",
    "        return \"not connected\"\n",
    "    if md[s][e] == -1:\n",
    "        return [s, e]\n",
    "\n",
    "    k = md[s][e]\n",
    "    sk = get_path(md, s, k)\n",
    "    ke = get_path(md, k, e)\n",
    "    \n",
    "    return sk + ke[1:]"
   ]
  },
  {
   "cell_type": "code",
   "execution_count": 4,
   "id": "4859ac12-8343-45b0-9710-1cbf8f40d0f0",
   "metadata": {},
   "outputs": [
    {
     "data": {
      "text/plain": [
       "inf"
      ]
     },
     "execution_count": 4,
     "metadata": {},
     "output_type": "execute_result"
    }
   ],
   "source": [
    "float('INF')"
   ]
  },
  {
   "cell_type": "code",
   "execution_count": 5,
   "id": "442b3e3d-2f51-47f5-9845-e33a9c83d3c9",
   "metadata": {
    "tags": []
   },
   "outputs": [
    {
     "name": "stdout",
     "output_type": "stream",
     "text": [
      "0/F -> [ 3/F (-1), 5/F (1), 7/F (-3),]\n",
      "1/F -> [ 2/F (-6), 4/F (8), 8/F (-7),]\n",
      "2/F -> [ 5/F (-6), 6/F (1),]\n",
      "3/F -> [ 5/F (7), 6/F (8), 8/F (3),]\n",
      "5/F -> [ 7/F (1),]\n",
      "6/F -> [ 7/F (9), 8/F (-5),]\n"
     ]
    }
   ],
   "source": [
    "G = Graph(N, data)\n",
    "print(G)"
   ]
  },
  {
   "cell_type": "code",
   "execution_count": 6,
   "id": "0551e102-daed-4f90-95b5-6c1a83f5562d",
   "metadata": {
    "tags": []
   },
   "outputs": [
    {
     "name": "stdout",
     "output_type": "stream",
     "text": [
      "1 5 2\n",
      "inf -6 -6\n",
      "\n",
      "1 6 2\n",
      "inf -6 1\n",
      "\n",
      "0 6 3\n",
      "inf -1 8\n",
      "\n",
      "0 8 3\n",
      "inf -1 3\n",
      "\n",
      "1 7 5\n",
      "inf -12 1\n",
      "\n",
      "2 7 5\n",
      "inf -6 1\n",
      "\n",
      "3 7 5\n",
      "inf 7 1\n",
      "\n",
      "1 8 6\n",
      "-7 -5 -5\n",
      "\n",
      "2 8 6\n",
      "inf 1 -5\n",
      "\n"
     ]
    }
   ],
   "source": [
    "dp, md = floyd_warshall(G, N)"
   ]
  },
  {
   "cell_type": "code",
   "execution_count": 7,
   "id": "73b292ef-a8f9-4498-8c71-d2a11ceee7b6",
   "metadata": {
    "tags": []
   },
   "outputs": [
    {
     "data": {
      "text/plain": [
       "[[0, inf, inf, -1, inf, 1, 7, -3, 2],\n",
       " [inf, 0, -6, inf, 8, -12, -5, -11, -10],\n",
       " [inf, inf, 0, inf, inf, -6, 1, -5, -4],\n",
       " [inf, inf, inf, 0, inf, 7, 8, 8, 3],\n",
       " [inf, inf, inf, inf, 0, inf, inf, inf, inf],\n",
       " [inf, inf, inf, inf, inf, 0, inf, 1, inf],\n",
       " [inf, inf, inf, inf, inf, inf, 0, 9, -5],\n",
       " [inf, inf, inf, inf, inf, inf, inf, 0, inf],\n",
       " [inf, inf, inf, inf, inf, inf, inf, inf, 0]]"
      ]
     },
     "execution_count": 7,
     "metadata": {},
     "output_type": "execute_result"
    }
   ],
   "source": [
    "dp"
   ]
  },
  {
   "cell_type": "code",
   "execution_count": 8,
   "id": "e3ebec41-acda-4422-9c28-921be50728a4",
   "metadata": {
    "tags": []
   },
   "outputs": [
    {
     "data": {
      "text/plain": [
       "[[0, -2, -2, -1, -2, -1, 3, -1, 3],\n",
       " [-2, 1, -1, -2, -1, 2, 2, 5, 6],\n",
       " [-2, -2, 2, -2, -2, -1, -1, 5, 6],\n",
       " [-2, -2, -2, 3, -2, -1, -1, 5, -1],\n",
       " [-2, -2, -2, -2, 4, -2, -2, -2, -2],\n",
       " [-2, -2, -2, -2, -2, 5, -2, -1, -2],\n",
       " [-2, -2, -2, -2, -2, -2, 6, -1, -1],\n",
       " [-2, -2, -2, -2, -2, -2, -2, 7, -2],\n",
       " [-2, -2, -2, -2, -2, -2, -2, -2, 8]]"
      ]
     },
     "execution_count": 8,
     "metadata": {},
     "output_type": "execute_result"
    }
   ],
   "source": [
    "md"
   ]
  },
  {
   "cell_type": "code",
   "execution_count": 9,
   "id": "b7813a63-bca6-4147-a307-bf62d4c93050",
   "metadata": {},
   "outputs": [
    {
     "name": "stdout",
     "output_type": "stream",
     "text": [
      "[0, 3, 8] 2\n"
     ]
    }
   ],
   "source": [
    "s = 0\n",
    "e = 8\n",
    "path = get_path(md, s, e)\n",
    "print(path, dp[s][e])"
   ]
  },
  {
   "cell_type": "code",
   "execution_count": 10,
   "id": "c88424c0-ead1-4fad-9bcd-fc3ee18c5f3e",
   "metadata": {},
   "outputs": [
    {
     "data": {
      "text/plain": [
       "0/F , 3/F (-1)"
      ]
     },
     "execution_count": 10,
     "metadata": {},
     "output_type": "execute_result"
    }
   ],
   "source": [
    "G.graph[0][0]"
   ]
  },
  {
   "cell_type": "code",
   "execution_count": 11,
   "id": "296fc94b-daf5-45e0-a03d-a0f5a724cacd",
   "metadata": {},
   "outputs": [
    {
     "data": {
      "text/plain": [
       "3/F , 8/F (3)"
      ]
     },
     "execution_count": 11,
     "metadata": {},
     "output_type": "execute_result"
    }
   ],
   "source": [
    "G.graph[3][2]"
   ]
  },
  {
   "cell_type": "code",
   "execution_count": null,
   "id": "c1e3fb90-a45e-4c89-9fef-6c01d6ba39b0",
   "metadata": {},
   "outputs": [],
   "source": []
  }
 ],
 "metadata": {
  "kernelspec": {
   "display_name": "Python 3",
   "language": "python",
   "name": "python3"
  },
  "language_info": {
   "codemirror_mode": {
    "name": "ipython",
    "version": 3
   },
   "file_extension": ".py",
   "mimetype": "text/x-python",
   "name": "python",
   "nbconvert_exporter": "python",
   "pygments_lexer": "ipython3",
   "version": "3.9.4"
  }
 },
 "nbformat": 4,
 "nbformat_minor": 5
}
